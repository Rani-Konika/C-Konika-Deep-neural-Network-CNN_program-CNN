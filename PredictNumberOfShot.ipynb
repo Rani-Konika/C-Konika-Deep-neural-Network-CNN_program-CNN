{
 "cells": [
  {
   "cell_type": "code",
   "execution_count": 55,
   "id": "54259b67-0258-4575-adf9-57776fc5dc0f",
   "metadata": {},
   "outputs": [],
   "source": [
    "#import library\n",
    "import numpy as np\n",
    "import matplotlib.pyplot as plt\n",
    "from sklearn.preprocessing import *\n",
    "from sklearn.preprocessing import OneHotEncoder, LabelEncoder\n",
    "from sklearn.model_selection import train_test_split\n",
    "import os\n",
    "import cv2\n",
    "import glob\n",
    "\n",
    "#import neural network library\n",
    "\n",
    "import tensorflow as tf \n",
    "from tensorflow.keras.models import Sequential, load_model\n",
    "from tensorflow.keras.layers import Conv2D, AveragePooling2D, Flatten, Dense,Dropout\n",
    "from tensorflow.keras.utils import to_categorical\n",
    "from tensorflow.keras.preprocessing.image import ImageDataGenerator\n",
    "from tensorflow.keras.callbacks import EarlyStopping, ModelCheckpoint\n",
    "\n",
    "#warnings\n",
    "\n",
    "import warnings\n",
    "warnings.filterwarnings(\"ignore\")"
   ]
  },
  {
   "cell_type": "code",
   "execution_count": 2,
   "id": "2a7ba2b1-203f-49d6-9950-4306935caa86",
   "metadata": {},
   "outputs": [],
   "source": [
    "basedir='preprocessing/train'"
   ]
  },
  {
   "cell_type": "code",
   "execution_count": 3,
   "id": "657ecfad-4179-4a9e-800a-68d3ccbb3104",
   "metadata": {},
   "outputs": [
    {
     "data": {
      "text/plain": [
       "1584"
      ]
     },
     "execution_count": 3,
     "metadata": {},
     "output_type": "execute_result"
    }
   ],
   "source": [
    "nameTest=os.listdir(basedir)\n",
    "len(nameTest)"
   ]
  },
  {
   "cell_type": "code",
   "execution_count": 4,
   "id": "35d83ce1-86dc-4ae5-a3ff-67d1d186db8f",
   "metadata": {},
   "outputs": [
    {
     "data": {
      "text/plain": [
       "array(['Cu1.0_2599966.jpg', 'Cu1.0_3220765.jpg', 'Cu1.0_3780854.jpg', ...,\n",
       "       'Cu8.8_9318130.jpg', 'Cu8.8_9702046.jpg', 'Cu8.8_9780531.jpg'],\n",
       "      dtype='<U20')"
      ]
     },
     "execution_count": 4,
     "metadata": {},
     "output_type": "execute_result"
    }
   ],
   "source": [
    "np.unique(nameTest)"
   ]
  },
  {
   "cell_type": "code",
   "execution_count": 5,
   "id": "4994b9db-61dd-47e9-8e88-a7d113dfcda5",
   "metadata": {},
   "outputs": [],
   "source": [
    "def imageFeatureExtract(image,size=(28,28)):\n",
    "    img=cv2.resize(image,size)\n",
    "    gray = cv2.cvtColor(img, cv2.COLOR_RGB2GRAY)\n",
    "    gray = np.expand_dims(gray, 2)#(28, 28, 1)\n",
    "    return gray"
   ]
  },
  {
   "cell_type": "code",
   "execution_count": 6,
   "id": "cdd7c7a4-72f1-4415-b82b-c916a7841ec4",
   "metadata": {},
   "outputs": [],
   "source": [
    "Datasetspath= 'preprocessing/train'\n",
    "datasetPath = os.path.join(Datasetspath, \"*g\")\n",
    "fileRead = glob.glob(datasetPath)\n",
    "\n",
    "data = []\n",
    "category_or_class = []\n",
    "\n",
    "for (i, file) in enumerate(fileRead):\n",
    "    image = cv2.imread(file)\n",
    "    feature = imageFeatureExtract(image)\n",
    "    data.append(feature)\n",
    "    classNames = file.split(os.path.sep)[-1].split(\".\")[0]\n",
    "    category_or_class.append(classNames)"
   ]
  },
  {
   "cell_type": "code",
   "execution_count": 7,
   "id": "5af2b79e-d998-41ae-bf7e-66a37f5b98fb",
   "metadata": {},
   "outputs": [],
   "source": [
    "#Dataset scalling\n",
    "data = np.array(data, dtype = np.uint8)\n",
    "labels = np.array(category_or_class)"
   ]
  },
  {
   "cell_type": "code",
   "execution_count": 8,
   "id": "46ce469c-4d1c-4385-874b-acce3023af5f",
   "metadata": {},
   "outputs": [
    {
     "data": {
      "text/plain": [
       "(1584, 28, 28, 1)"
      ]
     },
     "execution_count": 8,
     "metadata": {},
     "output_type": "execute_result"
    }
   ],
   "source": [
    "data.shape"
   ]
  },
  {
   "cell_type": "code",
   "execution_count": 9,
   "id": "58162753-2f75-4dff-8197-c30539ac6994",
   "metadata": {},
   "outputs": [
    {
     "data": {
      "text/plain": [
       "array(['Cu1', 'Cu1024', 'Cu128', 'Cu16', 'Cu2', 'Cu256', 'Cu32', 'Cu4',\n",
       "       'Cu512', 'Cu64', 'Cu8'], dtype='<U6')"
      ]
     },
     "execution_count": 9,
     "metadata": {},
     "output_type": "execute_result"
    }
   ],
   "source": [
    "np.unique(category_or_class)"
   ]
  },
  {
   "cell_type": "code",
   "execution_count": 10,
   "id": "cc7161d0-2665-4c81-9d36-d205364451d8",
   "metadata": {},
   "outputs": [
    {
     "data": {
      "text/plain": [
       "1584"
      ]
     },
     "execution_count": 10,
     "metadata": {},
     "output_type": "execute_result"
    }
   ],
   "source": [
    "len(data)"
   ]
  },
  {
   "cell_type": "code",
   "execution_count": 11,
   "id": "840a7ddb-ba79-4616-8e3a-54ad2cee922c",
   "metadata": {},
   "outputs": [
    {
     "data": {
      "text/plain": [
       "array(['Cu1', 'Cu1', 'Cu1', ..., 'Cu8', 'Cu8', 'Cu8'], dtype='<U6')"
      ]
     },
     "execution_count": 11,
     "metadata": {},
     "output_type": "execute_result"
    }
   ],
   "source": [
    "labels"
   ]
  },
  {
   "cell_type": "code",
   "execution_count": 12,
   "id": "7e7c0251-c0ae-42c9-9cc5-d6d526cd9fb6",
   "metadata": {},
   "outputs": [
    {
     "data": {
      "text/plain": [
       "array(['Cu1', 'Cu1024', 'Cu128', 'Cu16', 'Cu2', 'Cu256', 'Cu32', 'Cu4',\n",
       "       'Cu512', 'Cu64', 'Cu8'], dtype='<U6')"
      ]
     },
     "execution_count": 12,
     "metadata": {},
     "output_type": "execute_result"
    }
   ],
   "source": [
    "np.unique(labels)"
   ]
  },
  {
   "cell_type": "code",
   "execution_count": 13,
   "id": "7767c576-9f58-42a7-9f53-f7153243488a",
   "metadata": {},
   "outputs": [],
   "source": [
    "label_Encoder = LabelEncoder()\n",
    "#label_Encoder = preprocessing.LabelEncoder\n",
    "classNames = label_Encoder.fit_transform(labels)"
   ]
  },
  {
   "cell_type": "code",
   "execution_count": 14,
   "id": "730d5fc2-5fa3-4d33-b109-5fd24cf7d2bf",
   "metadata": {},
   "outputs": [
    {
     "data": {
      "text/plain": [
       "array([ 0,  1,  2,  3,  4,  5,  6,  7,  8,  9, 10], dtype=int64)"
      ]
     },
     "execution_count": 14,
     "metadata": {},
     "output_type": "execute_result"
    }
   ],
   "source": [
    "np.unique(classNames)"
   ]
  },
  {
   "cell_type": "code",
   "execution_count": 15,
   "id": "a82e1f64-6445-4609-9fca-6dfd0d285674",
   "metadata": {},
   "outputs": [
    {
     "data": {
      "text/plain": [
       "(1584,)"
      ]
     },
     "execution_count": 15,
     "metadata": {},
     "output_type": "execute_result"
    }
   ],
   "source": [
    "classNames.shape"
   ]
  },
  {
   "cell_type": "code",
   "execution_count": 16,
   "id": "e4b1cbb3-d2dc-461e-bbba-4692717b130f",
   "metadata": {},
   "outputs": [
    {
     "data": {
      "text/plain": [
       "8"
      ]
     },
     "execution_count": 16,
     "metadata": {},
     "output_type": "execute_result"
    }
   ],
   "source": [
    "classNames[1200]"
   ]
  },
  {
   "cell_type": "code",
   "execution_count": 17,
   "id": "e842e735-e7e8-4d8c-970d-a2f044d56605",
   "metadata": {},
   "outputs": [],
   "source": [
    "#OneHotEncoder\n",
    "labelEncoderValue=classNames.reshape(len(classNames),1)\n",
    "ohe=OneHotEncoder(sparse=False)\n",
    "oneHotValues=ohe.fit_transform(labelEncoderValue)\n"
   ]
  },
  {
   "cell_type": "code",
   "execution_count": 18,
   "id": "83b8ce84-0d46-49fc-9ce2-8a8e7dd9ea8b",
   "metadata": {},
   "outputs": [
    {
     "data": {
      "text/plain": [
       "array([[1., 0., 0., ..., 0., 0., 0.],\n",
       "       [1., 0., 0., ..., 0., 0., 0.],\n",
       "       [1., 0., 0., ..., 0., 0., 0.],\n",
       "       ...,\n",
       "       [0., 0., 0., ..., 0., 0., 1.],\n",
       "       [0., 0., 0., ..., 0., 0., 1.],\n",
       "       [0., 0., 0., ..., 0., 0., 1.]])"
      ]
     },
     "execution_count": 18,
     "metadata": {},
     "output_type": "execute_result"
    }
   ],
   "source": [
    "oneHotValues"
   ]
  },
  {
   "cell_type": "code",
   "execution_count": 19,
   "id": "49b45bc0-52d3-4311-a046-0b3102441b26",
   "metadata": {},
   "outputs": [],
   "source": [
    "#Traintest_split\n",
    "(Xtrain,xtest,Ytrain,ytest)=train_test_split(data,oneHotValues,test_size=0.2,random_state=42)"
   ]
  },
  {
   "cell_type": "code",
   "execution_count": 46,
   "id": "d295df03-893c-46e0-8106-19d1697e2921",
   "metadata": {},
   "outputs": [
    {
     "data": {
      "text/plain": [
       "(1267, 28, 28, 1)"
      ]
     },
     "execution_count": 46,
     "metadata": {},
     "output_type": "execute_result"
    }
   ],
   "source": [
    "Xtrain.shape"
   ]
  },
  {
   "cell_type": "code",
   "execution_count": 42,
   "id": "8beb2a82-8c4a-4722-9c80-fbd4d7b1fd36",
   "metadata": {},
   "outputs": [],
   "source": [
    "Xtrain=Xtrain/255"
   ]
  },
  {
   "cell_type": "code",
   "execution_count": 44,
   "id": "62937c3a-42ba-4890-848b-8cc3ec8d222f",
   "metadata": {},
   "outputs": [],
   "source": [
    "xtest=xtest/255"
   ]
  },
  {
   "cell_type": "code",
   "execution_count": 48,
   "id": "61d6f34e-de0e-4ba0-bb63-68238c18b1cf",
   "metadata": {},
   "outputs": [],
   "source": [
    "#xtest"
   ]
  },
  {
   "cell_type": "code",
   "execution_count": 45,
   "id": "ee167122-ca7e-4cc9-891a-92d6c3a87427",
   "metadata": {},
   "outputs": [
    {
     "data": {
      "text/plain": [
       "(317, 28, 28, 1)"
      ]
     },
     "execution_count": 45,
     "metadata": {},
     "output_type": "execute_result"
    }
   ],
   "source": [
    "xtest.shape"
   ]
  },
  {
   "cell_type": "code",
   "execution_count": 22,
   "id": "92d449f0-3f02-47f3-bdb9-360bcd9f2975",
   "metadata": {},
   "outputs": [
    {
     "data": {
      "text/plain": [
       "(1267, 11)"
      ]
     },
     "execution_count": 22,
     "metadata": {},
     "output_type": "execute_result"
    }
   ],
   "source": [
    "Ytrain.shape"
   ]
  },
  {
   "cell_type": "code",
   "execution_count": 23,
   "id": "88fadf2a-c676-499a-a03b-9dc3475be95f",
   "metadata": {},
   "outputs": [
    {
     "data": {
      "text/plain": [
       "(317, 11)"
      ]
     },
     "execution_count": 23,
     "metadata": {},
     "output_type": "execute_result"
    }
   ],
   "source": [
    "ytest.shape"
   ]
  },
  {
   "cell_type": "markdown",
   "id": "d95b62d9-afae-4762-964e-f1a98752db24",
   "metadata": {},
   "source": [
    "Model"
   ]
  },
  {
   "cell_type": "code",
   "execution_count": 49,
   "id": "d02e2f34-5374-4fbf-9b33-3f0a02ddbd9e",
   "metadata": {},
   "outputs": [],
   "source": [
    "model = Sequential() # Empty \n",
    "\n",
    "# 1st layer\n",
    "model.add(Conv2D(6,kernel_size = (5, 5), strides = (1, 1), activation = \"relu\", input_shape = (28, 28, 1), padding = \"same\"))\n",
    "model.add(AveragePooling2D(pool_size = (2, 2), strides = (2, 2), padding = \"valid\"))\n",
    "\n",
    "# 2nd Layer\n",
    "model.add(Conv2D(16,kernel_size = (5, 5), strides = (1, 1), activation = \"relu\", padding = \"valid\"))\n",
    "model.add(AveragePooling2D(pool_size = (2, 2), strides = (2, 2), padding = \"valid\"))\n",
    "\n",
    "# Flatten Layer\n",
    "model.add(Flatten())\n",
    "\n",
    "# Output Layer\n",
    "model.add(Dense(120, activation = \"relu\"))\n",
    "model.add(Dropout(0.2))\n",
    "model.add(Dense(84, activation = \"relu\"))\n",
    "model.add(Dense(11, activation = \"softmax\"))"
   ]
  },
  {
   "cell_type": "code",
   "execution_count": 50,
   "id": "254810c5-8efc-4f8f-acff-4a28887d7387",
   "metadata": {},
   "outputs": [],
   "source": [
    "model.compile(optimizer = \"adam\",\n",
    "             loss = \"categorical_crossentropy\",\n",
    "             metrics = [\"accuracy\"])"
   ]
  },
  {
   "cell_type": "code",
   "execution_count": 51,
   "id": "af9f2ff9-2487-4e08-a31d-2cee542df618",
   "metadata": {},
   "outputs": [
    {
     "name": "stdout",
     "output_type": "stream",
     "text": [
      "Model: \"sequential_1\"\n",
      "_________________________________________________________________\n",
      " Layer (type)                Output Shape              Param #   \n",
      "=================================================================\n",
      " conv2d_2 (Conv2D)           (None, 28, 28, 6)         156       \n",
      "                                                                 \n",
      " average_pooling2d_2 (Averag  (None, 14, 14, 6)        0         \n",
      " ePooling2D)                                                     \n",
      "                                                                 \n",
      " conv2d_3 (Conv2D)           (None, 10, 10, 16)        2416      \n",
      "                                                                 \n",
      " average_pooling2d_3 (Averag  (None, 5, 5, 16)         0         \n",
      " ePooling2D)                                                     \n",
      "                                                                 \n",
      " flatten_1 (Flatten)         (None, 400)               0         \n",
      "                                                                 \n",
      " dense_3 (Dense)             (None, 120)               48120     \n",
      "                                                                 \n",
      " dropout_1 (Dropout)         (None, 120)               0         \n",
      "                                                                 \n",
      " dense_4 (Dense)             (None, 84)                10164     \n",
      "                                                                 \n",
      " dense_5 (Dense)             (None, 11)                935       \n",
      "                                                                 \n",
      "=================================================================\n",
      "Total params: 61,791\n",
      "Trainable params: 61,791\n",
      "Non-trainable params: 0\n",
      "_________________________________________________________________\n"
     ]
    }
   ],
   "source": [
    "model.summary()"
   ]
  },
  {
   "cell_type": "code",
   "execution_count": 64,
   "id": "886cdd40-6f11-4b55-b03a-5876faf15eef",
   "metadata": {},
   "outputs": [],
   "source": [
    "import datetime\n",
    "logsData = \"logs/fit/\" + datetime.datetime.now().strftime(\"%Y%m%d-%H%M%S\")\n",
    "callbacks = tf.keras.callbacks.TensorBoard(log_dir = logsData, histogram_freq = 1)"
   ]
  },
  {
   "cell_type": "code",
   "execution_count": 60,
   "id": "0b7f971a-b27b-4207-b65e-c2a34548bb49",
   "metadata": {},
   "outputs": [],
   "source": [
    "#earlyStoping = EarlyStopping(monitor = 'val_accuracy',\n",
    "                            #mode = \"max\", \n",
    "                            #verbose = 1, \n",
    "                            #patience = 2)"
   ]
  },
  {
   "cell_type": "code",
   "execution_count": 65,
   "id": "52b1b8bd-2b14-4bd6-a50f-9aeb7c767804",
   "metadata": {},
   "outputs": [
    {
     "name": "stdout",
     "output_type": "stream",
     "text": [
      "Epoch 1/150\n",
      "40/40 [==============================] - 1s 23ms/step - loss: 0.2860 - accuracy: 0.8840 - val_loss: 0.3373 - val_accuracy: 0.8580\n",
      "Epoch 2/150\n",
      "40/40 [==============================] - 1s 22ms/step - loss: 0.3188 - accuracy: 0.8658 - val_loss: 0.2992 - val_accuracy: 0.8833\n",
      "Epoch 3/150\n",
      "40/40 [==============================] - 1s 22ms/step - loss: 0.2434 - accuracy: 0.9061 - val_loss: 0.2916 - val_accuracy: 0.8991\n",
      "Epoch 4/150\n",
      "40/40 [==============================] - 1s 23ms/step - loss: 0.2634 - accuracy: 0.8887 - val_loss: 0.3364 - val_accuracy: 0.8486\n",
      "Epoch 5/150\n",
      "40/40 [==============================] - 1s 23ms/step - loss: 0.2607 - accuracy: 0.8966 - val_loss: 0.3252 - val_accuracy: 0.8675\n",
      "Epoch 6/150\n",
      "40/40 [==============================] - 1s 23ms/step - loss: 0.2542 - accuracy: 0.9006 - val_loss: 0.3268 - val_accuracy: 0.8675\n",
      "Epoch 7/150\n",
      "40/40 [==============================] - 1s 22ms/step - loss: 0.2663 - accuracy: 0.8966 - val_loss: 0.3202 - val_accuracy: 0.8801\n",
      "Epoch 8/150\n",
      "40/40 [==============================] - 1s 22ms/step - loss: 0.2471 - accuracy: 0.9061 - val_loss: 0.3945 - val_accuracy: 0.8612\n",
      "Epoch 9/150\n",
      "40/40 [==============================] - 1s 22ms/step - loss: 0.2458 - accuracy: 0.8966 - val_loss: 0.3539 - val_accuracy: 0.8580\n",
      "Epoch 10/150\n",
      "40/40 [==============================] - 1s 22ms/step - loss: 0.2629 - accuracy: 0.8903 - val_loss: 0.3376 - val_accuracy: 0.8770\n",
      "Epoch 11/150\n",
      "40/40 [==============================] - 1s 23ms/step - loss: 0.2742 - accuracy: 0.8934 - val_loss: 0.3815 - val_accuracy: 0.8644\n",
      "Epoch 12/150\n",
      "40/40 [==============================] - 1s 22ms/step - loss: 0.2575 - accuracy: 0.8998 - val_loss: 0.2794 - val_accuracy: 0.8896\n",
      "Epoch 13/150\n",
      "40/40 [==============================] - 1s 23ms/step - loss: 0.2253 - accuracy: 0.9108 - val_loss: 0.3212 - val_accuracy: 0.8864\n",
      "Epoch 14/150\n",
      "40/40 [==============================] - 1s 22ms/step - loss: 0.2228 - accuracy: 0.9092 - val_loss: 0.3410 - val_accuracy: 0.8612\n",
      "Epoch 15/150\n",
      "40/40 [==============================] - 1s 22ms/step - loss: 0.2732 - accuracy: 0.8879 - val_loss: 0.3854 - val_accuracy: 0.8517\n",
      "Epoch 16/150\n",
      "40/40 [==============================] - 1s 22ms/step - loss: 0.2875 - accuracy: 0.8745 - val_loss: 0.2844 - val_accuracy: 0.8801\n",
      "Epoch 17/150\n",
      "40/40 [==============================] - 1s 21ms/step - loss: 0.2231 - accuracy: 0.9108 - val_loss: 0.3090 - val_accuracy: 0.8675\n",
      "Epoch 18/150\n",
      "40/40 [==============================] - 1s 23ms/step - loss: 0.2020 - accuracy: 0.9234 - val_loss: 0.2871 - val_accuracy: 0.8896\n",
      "Epoch 19/150\n",
      "40/40 [==============================] - 1s 23ms/step - loss: 0.2014 - accuracy: 0.9163 - val_loss: 0.2700 - val_accuracy: 0.8927\n",
      "Epoch 20/150\n",
      "40/40 [==============================] - 1s 23ms/step - loss: 0.1953 - accuracy: 0.9203 - val_loss: 0.2936 - val_accuracy: 0.8896\n",
      "Epoch 21/150\n",
      "40/40 [==============================] - 1s 21ms/step - loss: 0.2208 - accuracy: 0.9061 - val_loss: 0.3293 - val_accuracy: 0.8770\n",
      "Epoch 22/150\n",
      "40/40 [==============================] - 1s 22ms/step - loss: 0.2417 - accuracy: 0.9013 - val_loss: 0.4104 - val_accuracy: 0.8360\n",
      "Epoch 23/150\n",
      "40/40 [==============================] - 1s 23ms/step - loss: 0.2195 - accuracy: 0.9132 - val_loss: 0.3149 - val_accuracy: 0.8801\n",
      "Epoch 24/150\n",
      "40/40 [==============================] - 1s 23ms/step - loss: 0.2045 - accuracy: 0.9187 - val_loss: 0.3340 - val_accuracy: 0.8738\n",
      "Epoch 25/150\n",
      "40/40 [==============================] - 1s 23ms/step - loss: 0.2432 - accuracy: 0.9116 - val_loss: 0.2853 - val_accuracy: 0.8896\n",
      "Epoch 26/150\n",
      "40/40 [==============================] - 1s 22ms/step - loss: 0.2109 - accuracy: 0.9234 - val_loss: 0.3002 - val_accuracy: 0.8612\n",
      "Epoch 27/150\n",
      "40/40 [==============================] - 1s 22ms/step - loss: 0.1849 - accuracy: 0.9242 - val_loss: 0.3088 - val_accuracy: 0.8770\n",
      "Epoch 28/150\n",
      "40/40 [==============================] - 1s 22ms/step - loss: 0.2073 - accuracy: 0.9148 - val_loss: 0.2920 - val_accuracy: 0.8738\n",
      "Epoch 29/150\n",
      "40/40 [==============================] - 1s 23ms/step - loss: 0.1971 - accuracy: 0.9179 - val_loss: 0.3121 - val_accuracy: 0.8896\n",
      "Epoch 30/150\n",
      "40/40 [==============================] - 1s 22ms/step - loss: 0.2044 - accuracy: 0.9234 - val_loss: 0.3433 - val_accuracy: 0.8770\n",
      "Epoch 31/150\n",
      "40/40 [==============================] - 1s 24ms/step - loss: 0.1809 - accuracy: 0.9298 - val_loss: 0.3182 - val_accuracy: 0.8644\n",
      "Epoch 32/150\n",
      "40/40 [==============================] - 1s 22ms/step - loss: 0.1794 - accuracy: 0.9258 - val_loss: 0.3011 - val_accuracy: 0.8770\n",
      "Epoch 33/150\n",
      "40/40 [==============================] - 1s 22ms/step - loss: 0.1824 - accuracy: 0.9274 - val_loss: 0.3335 - val_accuracy: 0.8801\n",
      "Epoch 34/150\n",
      "40/40 [==============================] - 1s 23ms/step - loss: 0.1550 - accuracy: 0.9408 - val_loss: 0.3251 - val_accuracy: 0.8896\n",
      "Epoch 35/150\n",
      "40/40 [==============================] - 1s 21ms/step - loss: 0.1942 - accuracy: 0.9266 - val_loss: 0.3751 - val_accuracy: 0.8612\n",
      "Epoch 36/150\n",
      "40/40 [==============================] - 1s 22ms/step - loss: 0.1609 - accuracy: 0.9384 - val_loss: 0.3226 - val_accuracy: 0.8864\n",
      "Epoch 37/150\n",
      "40/40 [==============================] - 1s 21ms/step - loss: 0.1807 - accuracy: 0.9274 - val_loss: 0.2794 - val_accuracy: 0.9022\n",
      "Epoch 38/150\n",
      "40/40 [==============================] - 1s 23ms/step - loss: 0.1670 - accuracy: 0.9376 - val_loss: 0.2906 - val_accuracy: 0.8864\n",
      "Epoch 39/150\n",
      "40/40 [==============================] - 1s 22ms/step - loss: 0.1558 - accuracy: 0.9369 - val_loss: 0.2808 - val_accuracy: 0.8991\n",
      "Epoch 40/150\n",
      "40/40 [==============================] - 1s 21ms/step - loss: 0.1592 - accuracy: 0.9384 - val_loss: 0.3185 - val_accuracy: 0.8864\n",
      "Epoch 41/150\n",
      "40/40 [==============================] - 1s 23ms/step - loss: 0.1635 - accuracy: 0.9361 - val_loss: 0.4287 - val_accuracy: 0.8517\n",
      "Epoch 42/150\n",
      "40/40 [==============================] - 1s 22ms/step - loss: 0.1698 - accuracy: 0.9282 - val_loss: 0.2781 - val_accuracy: 0.8959\n",
      "Epoch 43/150\n",
      "40/40 [==============================] - 1s 23ms/step - loss: 0.2291 - accuracy: 0.9132 - val_loss: 0.2998 - val_accuracy: 0.8864\n",
      "Epoch 44/150\n",
      "40/40 [==============================] - 1s 21ms/step - loss: 0.1673 - accuracy: 0.9376 - val_loss: 0.3003 - val_accuracy: 0.8927\n",
      "Epoch 45/150\n",
      "40/40 [==============================] - 1s 23ms/step - loss: 0.1433 - accuracy: 0.9487 - val_loss: 0.2814 - val_accuracy: 0.9022\n",
      "Epoch 46/150\n",
      "40/40 [==============================] - 1s 22ms/step - loss: 0.1450 - accuracy: 0.9432 - val_loss: 0.3519 - val_accuracy: 0.8770\n",
      "Epoch 47/150\n",
      "40/40 [==============================] - 1s 23ms/step - loss: 0.1371 - accuracy: 0.9542 - val_loss: 0.2800 - val_accuracy: 0.8959\n",
      "Epoch 48/150\n",
      "40/40 [==============================] - 1s 22ms/step - loss: 0.1566 - accuracy: 0.9329 - val_loss: 0.3971 - val_accuracy: 0.8580\n",
      "Epoch 49/150\n",
      "40/40 [==============================] - 1s 23ms/step - loss: 0.1388 - accuracy: 0.9432 - val_loss: 0.3787 - val_accuracy: 0.8675\n",
      "Epoch 50/150\n",
      "40/40 [==============================] - 1s 23ms/step - loss: 0.1774 - accuracy: 0.9305 - val_loss: 0.3880 - val_accuracy: 0.8580\n",
      "Epoch 51/150\n",
      "40/40 [==============================] - 1s 23ms/step - loss: 0.1979 - accuracy: 0.9211 - val_loss: 0.3150 - val_accuracy: 0.8707\n",
      "Epoch 52/150\n",
      "40/40 [==============================] - 1s 22ms/step - loss: 0.1864 - accuracy: 0.9234 - val_loss: 0.3103 - val_accuracy: 0.8833\n",
      "Epoch 53/150\n",
      "40/40 [==============================] - 1s 21ms/step - loss: 0.1546 - accuracy: 0.9384 - val_loss: 0.2666 - val_accuracy: 0.9085\n",
      "Epoch 54/150\n",
      "40/40 [==============================] - 1s 22ms/step - loss: 0.1353 - accuracy: 0.9495 - val_loss: 0.2772 - val_accuracy: 0.8927\n",
      "Epoch 55/150\n",
      "40/40 [==============================] - 1s 22ms/step - loss: 0.1378 - accuracy: 0.9511 - val_loss: 0.2582 - val_accuracy: 0.9022\n",
      "Epoch 56/150\n",
      "40/40 [==============================] - 1s 23ms/step - loss: 0.1095 - accuracy: 0.9629 - val_loss: 0.3227 - val_accuracy: 0.8801\n",
      "Epoch 57/150\n",
      "40/40 [==============================] - 1s 22ms/step - loss: 0.1759 - accuracy: 0.9361 - val_loss: 0.3419 - val_accuracy: 0.8833\n",
      "Epoch 58/150\n",
      "40/40 [==============================] - 1s 22ms/step - loss: 0.1381 - accuracy: 0.9432 - val_loss: 0.3272 - val_accuracy: 0.8644\n",
      "Epoch 59/150\n",
      "40/40 [==============================] - 1s 22ms/step - loss: 0.1243 - accuracy: 0.9526 - val_loss: 0.3109 - val_accuracy: 0.9022\n",
      "Epoch 60/150\n",
      "40/40 [==============================] - 1s 23ms/step - loss: 0.1338 - accuracy: 0.9503 - val_loss: 0.2828 - val_accuracy: 0.8959\n",
      "Epoch 61/150\n",
      "40/40 [==============================] - 1s 22ms/step - loss: 0.1126 - accuracy: 0.9590 - val_loss: 0.3009 - val_accuracy: 0.8959\n",
      "Epoch 62/150\n",
      "40/40 [==============================] - 1s 22ms/step - loss: 0.1434 - accuracy: 0.9376 - val_loss: 0.3844 - val_accuracy: 0.8707\n",
      "Epoch 63/150\n",
      "40/40 [==============================] - 1s 22ms/step - loss: 0.1441 - accuracy: 0.9392 - val_loss: 0.4131 - val_accuracy: 0.8675\n",
      "Epoch 64/150\n",
      "40/40 [==============================] - 1s 21ms/step - loss: 0.1499 - accuracy: 0.9376 - val_loss: 0.2826 - val_accuracy: 0.9148\n",
      "Epoch 65/150\n",
      "40/40 [==============================] - 1s 23ms/step - loss: 0.1233 - accuracy: 0.9479 - val_loss: 0.3015 - val_accuracy: 0.9054\n",
      "Epoch 66/150\n",
      "40/40 [==============================] - 1s 22ms/step - loss: 0.1188 - accuracy: 0.9503 - val_loss: 0.3401 - val_accuracy: 0.8833\n",
      "Epoch 67/150\n",
      "40/40 [==============================] - 1s 23ms/step - loss: 0.1062 - accuracy: 0.9590 - val_loss: 0.2848 - val_accuracy: 0.9054\n",
      "Epoch 68/150\n",
      "40/40 [==============================] - 1s 22ms/step - loss: 0.1097 - accuracy: 0.9534 - val_loss: 0.3202 - val_accuracy: 0.9022\n",
      "Epoch 69/150\n",
      "40/40 [==============================] - 1s 23ms/step - loss: 0.1216 - accuracy: 0.9519 - val_loss: 0.3712 - val_accuracy: 0.8675\n",
      "Epoch 70/150\n",
      "40/40 [==============================] - 1s 22ms/step - loss: 0.1278 - accuracy: 0.9503 - val_loss: 0.3686 - val_accuracy: 0.8927\n",
      "Epoch 71/150\n",
      "40/40 [==============================] - 1s 25ms/step - loss: 0.1207 - accuracy: 0.9534 - val_loss: 0.3223 - val_accuracy: 0.8801\n",
      "Epoch 72/150\n",
      "40/40 [==============================] - 1s 22ms/step - loss: 0.1682 - accuracy: 0.9337 - val_loss: 0.3566 - val_accuracy: 0.8770\n",
      "Epoch 73/150\n",
      "40/40 [==============================] - 1s 22ms/step - loss: 0.1644 - accuracy: 0.9337 - val_loss: 0.3341 - val_accuracy: 0.8927\n",
      "Epoch 74/150\n",
      "40/40 [==============================] - 1s 23ms/step - loss: 0.1104 - accuracy: 0.9621 - val_loss: 0.2883 - val_accuracy: 0.8927\n",
      "Epoch 75/150\n",
      "40/40 [==============================] - 1s 22ms/step - loss: 0.0909 - accuracy: 0.9645 - val_loss: 0.2884 - val_accuracy: 0.9022\n",
      "Epoch 76/150\n",
      "40/40 [==============================] - 1s 22ms/step - loss: 0.0981 - accuracy: 0.9637 - val_loss: 0.2734 - val_accuracy: 0.9180\n",
      "Epoch 77/150\n",
      "40/40 [==============================] - 1s 21ms/step - loss: 0.1135 - accuracy: 0.9558 - val_loss: 0.2789 - val_accuracy: 0.9085\n",
      "Epoch 78/150\n",
      "40/40 [==============================] - 1s 22ms/step - loss: 0.0972 - accuracy: 0.9637 - val_loss: 0.3105 - val_accuracy: 0.8927\n",
      "Epoch 79/150\n",
      "40/40 [==============================] - 1s 22ms/step - loss: 0.1135 - accuracy: 0.9566 - val_loss: 0.2928 - val_accuracy: 0.9085\n",
      "Epoch 80/150\n",
      "40/40 [==============================] - 1s 21ms/step - loss: 0.1267 - accuracy: 0.9503 - val_loss: 0.2609 - val_accuracy: 0.8896\n",
      "Epoch 81/150\n",
      "40/40 [==============================] - 1s 22ms/step - loss: 0.0934 - accuracy: 0.9653 - val_loss: 0.2928 - val_accuracy: 0.9022\n",
      "Epoch 82/150\n",
      "40/40 [==============================] - 1s 23ms/step - loss: 0.1101 - accuracy: 0.9590 - val_loss: 0.3166 - val_accuracy: 0.8896\n",
      "Epoch 83/150\n",
      "40/40 [==============================] - 1s 22ms/step - loss: 0.1336 - accuracy: 0.9487 - val_loss: 0.3211 - val_accuracy: 0.8959\n",
      "Epoch 84/150\n",
      "40/40 [==============================] - 1s 22ms/step - loss: 0.1146 - accuracy: 0.9590 - val_loss: 0.3295 - val_accuracy: 0.8833\n",
      "Epoch 85/150\n",
      "40/40 [==============================] - 1s 23ms/step - loss: 0.1035 - accuracy: 0.9574 - val_loss: 0.3280 - val_accuracy: 0.9085\n",
      "Epoch 86/150\n",
      "40/40 [==============================] - 1s 23ms/step - loss: 0.0817 - accuracy: 0.9732 - val_loss: 0.3344 - val_accuracy: 0.8927\n",
      "Epoch 87/150\n",
      "40/40 [==============================] - 1s 22ms/step - loss: 0.0916 - accuracy: 0.9676 - val_loss: 0.3561 - val_accuracy: 0.9054\n",
      "Epoch 88/150\n",
      "40/40 [==============================] - 1s 22ms/step - loss: 0.1687 - accuracy: 0.9392 - val_loss: 0.4463 - val_accuracy: 0.8675\n",
      "Epoch 89/150\n",
      "40/40 [==============================] - 1s 21ms/step - loss: 0.1532 - accuracy: 0.9408 - val_loss: 0.3434 - val_accuracy: 0.8833\n",
      "Epoch 90/150\n",
      "40/40 [==============================] - 1s 22ms/step - loss: 0.0876 - accuracy: 0.9653 - val_loss: 0.2925 - val_accuracy: 0.8991\n",
      "Epoch 91/150\n",
      "40/40 [==============================] - 1s 21ms/step - loss: 0.1264 - accuracy: 0.9503 - val_loss: 0.3715 - val_accuracy: 0.8770\n",
      "Epoch 92/150\n",
      "40/40 [==============================] - 1s 22ms/step - loss: 0.1078 - accuracy: 0.9621 - val_loss: 0.4065 - val_accuracy: 0.8580\n",
      "Epoch 93/150\n",
      "40/40 [==============================] - 1s 21ms/step - loss: 0.1253 - accuracy: 0.9487 - val_loss: 0.3346 - val_accuracy: 0.9117\n",
      "Epoch 94/150\n",
      "40/40 [==============================] - 1s 22ms/step - loss: 0.0805 - accuracy: 0.9747 - val_loss: 0.3164 - val_accuracy: 0.9085\n",
      "Epoch 95/150\n",
      "40/40 [==============================] - 1s 23ms/step - loss: 0.0778 - accuracy: 0.9700 - val_loss: 0.3106 - val_accuracy: 0.9117\n",
      "Epoch 96/150\n",
      "40/40 [==============================] - 1s 21ms/step - loss: 0.0963 - accuracy: 0.9653 - val_loss: 0.3492 - val_accuracy: 0.8991\n",
      "Epoch 97/150\n",
      "40/40 [==============================] - 1s 22ms/step - loss: 0.0960 - accuracy: 0.9597 - val_loss: 0.3276 - val_accuracy: 0.8991\n",
      "Epoch 98/150\n",
      "40/40 [==============================] - 1s 22ms/step - loss: 0.0786 - accuracy: 0.9740 - val_loss: 0.3770 - val_accuracy: 0.8896\n",
      "Epoch 99/150\n",
      "40/40 [==============================] - 1s 22ms/step - loss: 0.0837 - accuracy: 0.9684 - val_loss: 0.3654 - val_accuracy: 0.8864\n",
      "Epoch 100/150\n",
      "40/40 [==============================] - 1s 20ms/step - loss: 0.0912 - accuracy: 0.9590 - val_loss: 0.3065 - val_accuracy: 0.8991\n",
      "Epoch 101/150\n",
      "40/40 [==============================] - 1s 22ms/step - loss: 0.0670 - accuracy: 0.9826 - val_loss: 0.4395 - val_accuracy: 0.8991\n",
      "Epoch 102/150\n",
      "40/40 [==============================] - 1s 21ms/step - loss: 0.0927 - accuracy: 0.9653 - val_loss: 0.3200 - val_accuracy: 0.8991\n",
      "Epoch 103/150\n",
      "40/40 [==============================] - 1s 21ms/step - loss: 0.1113 - accuracy: 0.9574 - val_loss: 0.3188 - val_accuracy: 0.9054\n",
      "Epoch 104/150\n",
      "40/40 [==============================] - 1s 22ms/step - loss: 0.0711 - accuracy: 0.9779 - val_loss: 0.3659 - val_accuracy: 0.8833\n",
      "Epoch 105/150\n",
      "40/40 [==============================] - 1s 21ms/step - loss: 0.0777 - accuracy: 0.9716 - val_loss: 0.3476 - val_accuracy: 0.9148\n",
      "Epoch 106/150\n",
      "40/40 [==============================] - 1s 22ms/step - loss: 0.0657 - accuracy: 0.9732 - val_loss: 0.3613 - val_accuracy: 0.8927\n",
      "Epoch 107/150\n",
      "40/40 [==============================] - 1s 22ms/step - loss: 0.0688 - accuracy: 0.9676 - val_loss: 0.3058 - val_accuracy: 0.9054\n",
      "Epoch 108/150\n",
      "40/40 [==============================] - 1s 24ms/step - loss: 0.1298 - accuracy: 0.9495 - val_loss: 0.3324 - val_accuracy: 0.8864\n",
      "Epoch 109/150\n",
      "40/40 [==============================] - 1s 21ms/step - loss: 0.0909 - accuracy: 0.9645 - val_loss: 0.3164 - val_accuracy: 0.8927\n",
      "Epoch 110/150\n",
      "40/40 [==============================] - 1s 22ms/step - loss: 0.0773 - accuracy: 0.9676 - val_loss: 0.3034 - val_accuracy: 0.9054\n",
      "Epoch 111/150\n",
      "40/40 [==============================] - 1s 22ms/step - loss: 0.0805 - accuracy: 0.9676 - val_loss: 0.2983 - val_accuracy: 0.9054\n",
      "Epoch 112/150\n",
      "40/40 [==============================] - 1s 21ms/step - loss: 0.0693 - accuracy: 0.9724 - val_loss: 0.3897 - val_accuracy: 0.8801\n",
      "Epoch 113/150\n",
      "40/40 [==============================] - 1s 21ms/step - loss: 0.0952 - accuracy: 0.9637 - val_loss: 0.3234 - val_accuracy: 0.8927\n",
      "Epoch 114/150\n",
      "40/40 [==============================] - 1s 20ms/step - loss: 0.0621 - accuracy: 0.9787 - val_loss: 0.3889 - val_accuracy: 0.8864\n",
      "Epoch 115/150\n",
      "40/40 [==============================] - 1s 23ms/step - loss: 0.0762 - accuracy: 0.9708 - val_loss: 0.3248 - val_accuracy: 0.8927\n",
      "Epoch 116/150\n",
      "40/40 [==============================] - 1s 21ms/step - loss: 0.0974 - accuracy: 0.9582 - val_loss: 0.4815 - val_accuracy: 0.8644\n",
      "Epoch 117/150\n",
      "40/40 [==============================] - 1s 21ms/step - loss: 0.0868 - accuracy: 0.9724 - val_loss: 0.3313 - val_accuracy: 0.9022\n",
      "Epoch 118/150\n",
      "40/40 [==============================] - 1s 22ms/step - loss: 0.0678 - accuracy: 0.9724 - val_loss: 0.3461 - val_accuracy: 0.8896\n",
      "Epoch 119/150\n",
      "40/40 [==============================] - 1s 22ms/step - loss: 0.0668 - accuracy: 0.9763 - val_loss: 0.3620 - val_accuracy: 0.9085\n",
      "Epoch 120/150\n",
      "40/40 [==============================] - 1s 23ms/step - loss: 0.0636 - accuracy: 0.9763 - val_loss: 0.3484 - val_accuracy: 0.8959\n",
      "Epoch 121/150\n",
      "40/40 [==============================] - 1s 22ms/step - loss: 0.0396 - accuracy: 0.9890 - val_loss: 0.3638 - val_accuracy: 0.8959\n",
      "Epoch 122/150\n",
      "40/40 [==============================] - 1s 22ms/step - loss: 0.0441 - accuracy: 0.9834 - val_loss: 0.3210 - val_accuracy: 0.8991\n",
      "Epoch 123/150\n",
      "40/40 [==============================] - 1s 22ms/step - loss: 0.0539 - accuracy: 0.9779 - val_loss: 0.3643 - val_accuracy: 0.8991\n",
      "Epoch 124/150\n",
      "40/40 [==============================] - 1s 22ms/step - loss: 0.0637 - accuracy: 0.9708 - val_loss: 0.3775 - val_accuracy: 0.9085\n",
      "Epoch 125/150\n",
      "40/40 [==============================] - 1s 21ms/step - loss: 0.0550 - accuracy: 0.9811 - val_loss: 0.3281 - val_accuracy: 0.9054\n",
      "Epoch 126/150\n",
      "40/40 [==============================] - 1s 22ms/step - loss: 0.3604 - accuracy: 0.9171 - val_loss: 0.7171 - val_accuracy: 0.7445\n",
      "Epoch 127/150\n",
      "40/40 [==============================] - 1s 22ms/step - loss: 0.2543 - accuracy: 0.9013 - val_loss: 0.3322 - val_accuracy: 0.8959\n",
      "Epoch 128/150\n",
      "40/40 [==============================] - 1s 21ms/step - loss: 0.1169 - accuracy: 0.9582 - val_loss: 0.3891 - val_accuracy: 0.8896\n",
      "Epoch 129/150\n",
      "40/40 [==============================] - 1s 21ms/step - loss: 0.0802 - accuracy: 0.9708 - val_loss: 0.3355 - val_accuracy: 0.8927\n",
      "Epoch 130/150\n",
      "40/40 [==============================] - 1s 21ms/step - loss: 0.0697 - accuracy: 0.9842 - val_loss: 0.3133 - val_accuracy: 0.9022\n",
      "Epoch 131/150\n",
      "40/40 [==============================] - 1s 23ms/step - loss: 0.0585 - accuracy: 0.9795 - val_loss: 0.3620 - val_accuracy: 0.9022\n",
      "Epoch 132/150\n",
      "40/40 [==============================] - 1s 22ms/step - loss: 0.0756 - accuracy: 0.9716 - val_loss: 0.3763 - val_accuracy: 0.8927\n",
      "Epoch 133/150\n",
      "40/40 [==============================] - 1s 22ms/step - loss: 0.0772 - accuracy: 0.9716 - val_loss: 0.3713 - val_accuracy: 0.8959\n",
      "Epoch 134/150\n",
      "40/40 [==============================] - 1s 22ms/step - loss: 0.0502 - accuracy: 0.9811 - val_loss: 0.3038 - val_accuracy: 0.9180\n",
      "Epoch 135/150\n",
      "40/40 [==============================] - 1s 22ms/step - loss: 0.0732 - accuracy: 0.9692 - val_loss: 0.3507 - val_accuracy: 0.9054\n",
      "Epoch 136/150\n",
      "40/40 [==============================] - 1s 22ms/step - loss: 0.0614 - accuracy: 0.9795 - val_loss: 0.3492 - val_accuracy: 0.8991\n",
      "Epoch 137/150\n",
      "40/40 [==============================] - 1s 22ms/step - loss: 0.0434 - accuracy: 0.9850 - val_loss: 0.3749 - val_accuracy: 0.9022\n",
      "Epoch 138/150\n",
      "40/40 [==============================] - 1s 21ms/step - loss: 0.0505 - accuracy: 0.9866 - val_loss: 0.3908 - val_accuracy: 0.9054\n",
      "Epoch 139/150\n",
      "40/40 [==============================] - 1s 21ms/step - loss: 0.0597 - accuracy: 0.9779 - val_loss: 0.3410 - val_accuracy: 0.9085\n",
      "Epoch 140/150\n",
      "40/40 [==============================] - 1s 23ms/step - loss: 0.0468 - accuracy: 0.9834 - val_loss: 0.5658 - val_accuracy: 0.8675\n",
      "Epoch 141/150\n",
      "40/40 [==============================] - 1s 22ms/step - loss: 0.0914 - accuracy: 0.9653 - val_loss: 0.3658 - val_accuracy: 0.8927\n",
      "Epoch 142/150\n",
      "40/40 [==============================] - 1s 23ms/step - loss: 0.1344 - accuracy: 0.9519 - val_loss: 0.3534 - val_accuracy: 0.8833\n",
      "Epoch 143/150\n",
      "40/40 [==============================] - 1s 22ms/step - loss: 0.0529 - accuracy: 0.9795 - val_loss: 0.3559 - val_accuracy: 0.8991\n",
      "Epoch 144/150\n",
      "40/40 [==============================] - 1s 22ms/step - loss: 0.0594 - accuracy: 0.9779 - val_loss: 0.3902 - val_accuracy: 0.8991\n",
      "Epoch 145/150\n",
      "40/40 [==============================] - 1s 23ms/step - loss: 0.0560 - accuracy: 0.9818 - val_loss: 0.3855 - val_accuracy: 0.8864\n",
      "Epoch 146/150\n",
      "40/40 [==============================] - 1s 21ms/step - loss: 0.0650 - accuracy: 0.9771 - val_loss: 0.3533 - val_accuracy: 0.9117\n",
      "Epoch 147/150\n",
      "40/40 [==============================] - 1s 22ms/step - loss: 0.0424 - accuracy: 0.9866 - val_loss: 0.3708 - val_accuracy: 0.8959\n",
      "Epoch 148/150\n",
      "40/40 [==============================] - 1s 21ms/step - loss: 0.0454 - accuracy: 0.9858 - val_loss: 0.5104 - val_accuracy: 0.8801\n",
      "Epoch 149/150\n",
      "40/40 [==============================] - 1s 22ms/step - loss: 0.0624 - accuracy: 0.9779 - val_loss: 0.3142 - val_accuracy: 0.8991\n",
      "Epoch 150/150\n",
      "40/40 [==============================] - 1s 22ms/step - loss: 0.0536 - accuracy: 0.9803 - val_loss: 0.3483 - val_accuracy: 0.9054\n"
     ]
    }
   ],
   "source": [
    "history=model.fit(Xtrain, Ytrain,\n",
    "          epochs = 150,\n",
    "          validation_data = (xtest, ytest), \n",
    "          callbacks=[callbacks],\n",
    "          verbose = 1)"
   ]
  },
  {
   "cell_type": "code",
   "execution_count": 63,
   "id": "4fa9c71f-4240-43e5-8363-53e39353df91",
   "metadata": {},
   "outputs": [
    {
     "data": {
      "image/png": "[encoded data removed]",
      "text/plain": [
       "<Figure size 432x288 with 1 Axes>"
      ]
     },
     "metadata": {
      "needs_background": "light"
     },
     "output_type": "display_data"
    }
   ],
   "source": [
    "#accuracy\n",
    "epochs=100\n",
    "\n",
    "plt.xlabel('Epochs')\n",
    "\n",
    "plt.ylabel('Accuracy')\n",
    "\n",
    "plt.title('Accuracy Diagram')\n",
    "\n",
    "plt.plot(history.history['accuracy'], 'green', label='Training Accuracy')\n",
    "\n",
    "plt.plot(history.history['val_accuracy'], 'red', label='Validation Accuracy')\n",
    "\n",
    "plt.xticks(range(0,epochs)[0::5])\n",
    "\n",
    "plt.legend()\n",
    "\n",
    "plt.show()"
   ]
  },
  {
   "cell_type": "code",
   "execution_count": 30,
   "id": "e3cda50a-27bf-4fc1-93b7-a314d36ebb78",
   "metadata": {},
   "outputs": [
    {
     "data": {
      "image/png": "[encoded data removed]",
      "text/plain": [
       "<Figure size 432x288 with 1 Axes>"
      ]
     },
     "metadata": {
      "needs_background": "light"
     },
     "output_type": "display_data"
    }
   ],
   "source": [
    "#loss\n",
    "\n",
    "plt.xlabel('Epochs')\n",
    "\n",
    "plt.ylabel('Loss')\n",
    "\n",
    "plt.title('Loss Diagram')\n",
    "\n",
    "plt.plot(history.history['loss'], 'blue', label='Training Loss')\n",
    "\n",
    "plt.plot(history.history['val_loss'], 'red', label='Validation Loss')\n",
    "\n",
    "plt.xticks(range(0,epochs)[0::5])\n",
    "\n",
    "plt.legend()\n",
    "\n",
    "plt.show()"
   ]
  },
  {
   "cell_type": "code",
   "execution_count": 33,
   "id": "bd3385f5-66fa-49e1-b63a-abe4b8553f5e",
   "metadata": {},
   "outputs": [],
   "source": [
    "testImageData = cv2.imread(\"preprocessing/new_2^n_test/Cu32/Cu32.0_6178311.jpg\")\n",
    "testImageDataFeature = imageFeatureExtract(testImageData)/255.0\n",
    "testImageDataFeature = np.array([testImageDataFeature])"
   ]
  },
  {
   "cell_type": "code",
   "execution_count": 34,
   "id": "a476aec8-c2fe-4abd-a670-43a0de9f4416",
   "metadata": {},
   "outputs": [
    {
     "data": {
      "text/plain": [
       "(1, 28, 28, 1)"
      ]
     },
     "execution_count": 34,
     "metadata": {},
     "output_type": "execute_result"
    }
   ],
   "source": [
    "testImageDataFeature.shape"
   ]
  },
  {
   "cell_type": "code",
   "execution_count": 35,
   "id": "08ccf029-5dc8-4c4f-9cde-23d5ec372bd4",
   "metadata": {},
   "outputs": [
    {
     "name": "stdout",
     "output_type": "stream",
     "text": [
      "1/1 [==============================] - 0s 196ms/step\n"
     ]
    }
   ],
   "source": [
    "predict = model.predict(testImageDataFeature)[0]"
   ]
  },
  {
   "cell_type": "code",
   "execution_count": 36,
   "id": "9056351d-26f9-444f-8584-c9f4dc18c0ee",
   "metadata": {},
   "outputs": [
    {
     "data": {
      "text/plain": [
       "array([0.0732189 , 0.13989346, 0.08569515, 0.08839885, 0.08080948,\n",
       "       0.09796888, 0.08655454, 0.06790217, 0.10576498, 0.09601519,\n",
       "       0.07777839], dtype=float32)"
      ]
     },
     "execution_count": 36,
     "metadata": {},
     "output_type": "execute_result"
    }
   ],
   "source": [
    "predict"
   ]
  },
  {
   "cell_type": "code",
   "execution_count": 37,
   "id": "8bf27a8d-4d40-4a52-9eb0-73edfb779fe7",
   "metadata": {},
   "outputs": [
    {
     "name": "stdout",
     "output_type": "stream",
     "text": [
      "1/1 [==============================] - 0s 33ms/step\n"
     ]
    }
   ],
   "source": [
    "probability = model.predict(testImageDataFeature)"
   ]
  },
  {
   "cell_type": "code",
   "execution_count": 38,
   "id": "836289d6-49a0-4c98-81ba-2dde789a32fc",
   "metadata": {},
   "outputs": [
    {
     "data": {
      "text/plain": [
       "array([[0.0732189 , 0.13989346, 0.08569515, 0.08839885, 0.08080948,\n",
       "        0.09796888, 0.08655454, 0.06790217, 0.10576498, 0.09601519,\n",
       "        0.07777839]], dtype=float32)"
      ]
     },
     "execution_count": 38,
     "metadata": {},
     "output_type": "execute_result"
    }
   ],
   "source": [
    "probability"
   ]
  },
  {
   "cell_type": "code",
   "execution_count": 39,
   "id": "2a5fdf46-eba1-49e1-9b83-1fcbf527af5d",
   "metadata": {},
   "outputs": [
    {
     "data": {
      "text/plain": [
       "1"
      ]
     },
     "execution_count": 39,
     "metadata": {},
     "output_type": "execute_result"
    }
   ],
   "source": [
    "probabilityMaximum = predict.argmax(axis = 0)\n",
    "probabilityMaximum"
   ]
  },
  {
   "cell_type": "code",
   "execution_count": 40,
   "id": "bb3e00e3-e4a0-44a3-95a8-439d55ed63a8",
   "metadata": {},
   "outputs": [
    {
     "data": {
      "text/plain": [
       "array(['Cu1', 'Cu1024', 'Cu128', 'Cu16', 'Cu2', 'Cu256', 'Cu32', 'Cu4',\n",
       "       'Cu512', 'Cu64', 'Cu8'], dtype='<U6')"
      ]
     },
     "execution_count": 40,
     "metadata": {},
     "output_type": "execute_result"
    }
   ],
   "source": [
    "classData=np.unique(labels)\n",
    "classData"
   ]
  },
  {
   "cell_type": "code",
   "execution_count": 41,
   "id": "af1be015-7a54-47cb-897b-87c8ded82b33",
   "metadata": {
    "collapsed": true,
    "jupyter": {
     "outputs_hidden": true
    },
    "tags": []
   },
   "outputs": [
    {
     "data": {
      "image/png": "[encoded data removed]",
      "text/plain": [
       "<Figure size 432x288 with 1 Axes>"
      ]
     },
     "metadata": {
      "needs_background": "light"
     },
     "output_type": "display_data"
    }
   ],
   "source": [
    "imageDataLabels = \"{}: {:.2f}%\".format(classData[probabilityMaximum], predict[probabilityMaximum]*100)\n",
    "cv2.putText(testImageData, imageDataLabels, (0, 60), cv2.FONT_HERSHEY_PLAIN, 2.0, (0, 255, 0), 3)\n",
    "\n",
    "plt.imshow(testImageData, cmap = \"gray\")\n",
    "plt.show()"
   ]
  },
  {
   "cell_type": "code",
   "execution_count": null,
   "id": "b232bd96-b0d1-47cb-8486-d1a4701b9f56",
   "metadata": {},
   "outputs": [],
   "source": []
  }
 ],
 "metadata": {
  "kernelspec": {
   "display_name": "Python 3 (ipykernel)",
   "language": "python",
   "name": "python3"
  },
  "language_info": {
   "codemirror_mode": {
    "name": "ipython",
    "version": 3
   },
   "file_extension": ".py",
   "mimetype": "text/x-python",
   "name": "python",
   "nbconvert_exporter": "python",
   "pygments_lexer": "ipython3",
   "version": "3.7.13"
  }
 },
 "nbformat": 4,
 "nbformat_minor": 5
}
